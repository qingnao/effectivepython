{
 "cells": [
  {
   "cell_type": "markdown",
   "metadata": {},
   "source": [
    "Python是一门强大的编程语言，它很有魅力，同时也很独特，有很多程序员从别的语言转到Python之后都打不开思路，所以写出来的代码没有充分发挥出Python的特性。"
   ]
  },
  {
   "cell_type": "markdown",
   "metadata": {},
   "source": [
    "Pythonic是Python编程社区中的一个术语，它指的是编写简洁、优雅、可读性强且符合Python语言设计哲学的代码。\n",
    "\n",
    "Pythonic的核心在于遵循“Python之禅”种的原则，如“简洁胜于复杂”，“明确优于隐晦等”，"
   ]
  },
  {
   "cell_type": "markdown",
   "metadata": {},
   "source": [
    "文涛：再次强调一遍，为了保证学习效果，在第一遍学习时不要照抄上面的内容，虽然有时我会觉得它真的很有道理，但也不要这样。我可以进行编程练习，但在每章的结尾，停下来用自己的话总结这一章学过的内容。这更加促使我用心思考，用教授别人的方式去理解问题。等我写完第一遍后，如果认为有缺失的信息，就回过头来检查。"
   ]
  },
  {
   "cell_type": "markdown",
   "metadata": {},
   "source": [
    "#### 第10章 协作开发\n",
    "\n",
    "开发本来就是一群人的创作，大家一起商量代码的写法，即使是你一个人的编程任务，也要学习怎么使用别人写好的模块。这一段我一直是外行，绝大部分时间都是在闭门造车，没见过业界内好的写法是什么样的，那就从这一章学习最佳方法吧。"
   ]
  },
  {
   "cell_type": "markdown",
   "metadata": {},
   "source": [
    "#### 致谢\n",
    "Effective Python 翻译为“高效Python”或“Python编程最佳实践”，主要讲解怎么用高效、简洁的方式编写Python代码\n",
    "\n",
    "这里的 Effective 表示 高效的、有效的货卓有成效的，通过最佳实践来提升编程效果和代码质量。\n",
    "\n",
    "“Effective Software Development” 可以翻译为“高效软件开发”或“高效软件开发系列”，它是一个系列书籍的名称。该系列书籍通常提供编程语言的最佳实践和深入技巧，帮助开发者编写更高质量的代码。"
   ]
  }
 ],
 "metadata": {
  "language_info": {
   "name": "python"
  }
 },
 "nbformat": 4,
 "nbformat_minor": 2
}
