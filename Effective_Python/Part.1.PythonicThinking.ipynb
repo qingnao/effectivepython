{
 "cells": [
  {
   "cell_type": "markdown",
   "metadata": {},
   "source": [
    "# 第一章 培养Pythonic思维\n",
    "\n"
   ]
  },
  {
   "cell_type": "markdown",
   "metadata": {},
   "source": [
    "### 第2条 遵循PEP 8风格指南"
   ]
  },
  {
   "cell_type": "markdown",
   "metadata": {},
   "source": [
    "在同一份文件中，方法与类之间应该间隔两行。同一个类里，方法之间间隔一行。这也是编辑器在做的事情，不过东哥安排我们间隔两行，那也就是调下编辑器的事情，因为东哥用Vim写代码，也可能是大厂都这样做，因为好区分方法。\n",
    "\n",
    "这是我以前从没考虑过的，因为只是俩人开发，而豪哥又对我有很多包容性，才让我一直疏于学习，现在正是学习的好机会。"
   ]
  },
  {
   "cell_type": "markdown",
   "metadata": {},
   "source": [
    "类命名时，通常是首字母大写的命名。这是我一直模糊的概念，在东哥的代码里，所有的名字都是小写，而很多代码示例里，类方法都是大驼峰。现在很清楚了，我可以给类名写成大驼峰用来区分，这一点是东哥没有强制要求的，也是符合规则的。"
   ]
  },
  {
   "cell_type": "markdown",
   "metadata": {},
   "source": [
    "**每件事都应该有简单的做法，而且最好只有一种。**\n",
    "\n",
    "将否定词写在要否定的内容前面，比如 if a is not b,而不是 is not a is b。很明显前者更易懂，并且读起来和英语一样。\n",
    "\n",
    "如果要判断一个列表或字典是否为空，不是判断长度是否等于0，又或者集合是否等于[]or ''，而是直接判断 if not somelist。要判断容器有没有内容也一样，使用 if somelist，因为Python会对空值判定false，有值判断true。\n",
    "\n",
    "import导入语句的时候要都写成 from x import y 的格式，写在文件的开头。导入语句也有顺序，首先引入的是标准库里的模块，然后是第三方模块，最后是自己的模块。属于同一部分的import语句按照字母顺序排序。"
   ]
  },
  {
   "cell_type": "markdown",
   "metadata": {},
   "source": [
    "### 第4条 用支持插值的f-string取代C风格的格式字符串与str.format方法\n",
    "\n",
    "这章一共介绍了四种使用字符串的形式，作者从C语言风格的字符串讲到Python后来引入的形式，最终选择了f-string的形式。这也是我最开始使用的字符串格式，因为简单好上手，没想到竟然解决了这么多问题。那几种方式我还没有练习，不过看起来不需要了。"
   ]
  },
  {
   "cell_type": "markdown",
   "metadata": {},
   "source": [
    "### 第5条 用辅助函数取代复杂的表达式\n",
    "\n",
    "对一些难懂的表达式，可以写一个辅助函数来处理。即使这样的辅助函数只会用两三次，也很有必要。这可以让代码变得更易懂，类似于对布尔判断的拆分。"
   ]
  },
  {
   "cell_type": "code",
   "execution_count": null,
   "metadata": {},
   "outputs": [],
   "source": [
    "# 第7条 尽量用enumerate取代range\n",
    "\n",
    "flavor_list = ['vanilla', 'chocolate', 'pecan', 'strawberry']\n",
    "for flavor in flavor_list:\n",
    "    print(f'{flavor} is delicious')\n",
    "    \n",
    "it = enumerate(flavor_list)\n",
    "print(next(it))\n",
    "print(next(it))\n",
    "print(next(it))\n",
    "# 这是内置的函数，可以不使用range(len(flavor_list))来循环，只需要它来生成就好了\n",
    "\n",
    "for i, flavor in enumerate(flavor_list, 1):\n",
    "    print(f'{i}: {flavor}')"
   ]
  },
  {
   "cell_type": "code",
   "execution_count": 9,
   "metadata": {},
   "outputs": [
    {
     "name": "stdout",
     "output_type": "stream",
     "text": [
      "c:7\n"
     ]
    }
   ],
   "source": [
    "names = ['c', 'l', 'm']\n",
    "counts = [7, 4, 5]\n",
    "\n",
    "longest_name = None\n",
    "max_count = 0\n",
    "\n",
    "for name, count in zip(names, counts):\n",
    "    if count > max_count:\n",
    "        longest_name = name\n",
    "        max_count = count\n",
    "print(f'{longest_name}:{max_count}')\n",
    "\n",
    "# zip函数可以同时迭代两个列表，类似于拉链可以将两个牙齿拼在一起。这样的写法可以很好的减少复杂代码。\n",
    "# 唯一要注意的地方是，如果长度不一致，zip会迭代到最短的那个集合就停止。\n",
    "# 只要其中任何一个迭代器处理完就结束。"
   ]
  },
  {
   "cell_type": "markdown",
   "metadata": {},
   "source": [
    "### 第8条 用zip函数同时遍历两个迭代器\n",
    "\n",
    "内置的zip函数可以同时遍历多个迭代器。并且因为它会创建惰性生成器，每次只会创建一个元组，所以不管列表多长都没有问题。  \n",
    "如果提供的迭代器长度不一致，那么短的迭代器处理完毕，就会停止。      \n",
    "如果想要按最长的那个处理，可以使用itertools模块里的zip_longest函数。它会自动填补短列表的默认值。"
   ]
  },
  {
   "cell_type": "markdown",
   "metadata": {},
   "source": [
    "### 第9条 不要在for与while循环后面写else块\n",
    "\n",
    "在这里写else块会造成误解，如果在循环正常执行完毕后会执行else块，但如果是被break提前跳出循环了，else块就不会被执行。这会对人造成误解。这样的写法不太容易让人看出代码的意思，要避免这样写。"
   ]
  },
  {
   "cell_type": "markdown",
   "metadata": {},
   "source": [
    "### 第10条 用赋值表达式减少重复代码\n",
    "\n",
    "这里赋值表达式用的就是海象操作符(:=)给变量赋值。"
   ]
  },
  {
   "cell_type": "code",
   "execution_count": 12,
   "metadata": {},
   "outputs": [
    {
     "name": "stdout",
     "output_type": "stream",
     "text": [
      "柠檬足够：5\n",
      "苹果足够：10\n",
      "苹果足够：10\n"
     ]
    }
   ],
   "source": [
    "fresh_fruit = {\n",
    "    'apple': 10,\n",
    "    'banana': 8,\n",
    "    'lemon': 5\n",
    "}\n",
    "\n",
    "if count := fresh_fruit.get('lemon', 0):\n",
    "    print(f'柠檬足够：{count}')\n",
    "else:\n",
    "    print('柠檬不够用')\n",
    "    \n",
    "# 看到这样的写法确实是很厉害，而且还有升级版的操作。\n",
    "if (count := fresh_fruit.get('apple', 0)) >=4:\n",
    "    print(f'苹果足够：{count}')\n",
    "else:\n",
    "    print('苹果不够4个')\n",
    "\n",
    "# 这样的赋值表达式真的有用吗？还要再给它赋值一个变量，为什么不直接判断呢？\n",
    "if fresh_fruit.get('apple', 0) >=4:\n",
    "    print(f'苹果足够：{count}')\n",
    "else:\n",
    "    print('苹果不够4个')\n",
    "# 这样直接操作表达式不是一样的吗？况且有时候判断表达式又太复杂，人家鼓励写在外面先处理好。\n",
    "# 但这确实是一个新的写法，说不定可以用在别处。"
   ]
  },
  {
   "cell_type": "markdown",
   "metadata": {},
   "source": [
    "2024年10月28日星期一 15:18 笔记\n",
    "\n",
    "大约用了两个小时来学习第一章，这本书给我一种更高级的写法，我可以从中学到更多简洁和高效的编码方式，它甚至解决了我萎靡不振的情绪。在这一章的学习里我决定换一种方式，不是照抄原句，而是尽量用自己的话来复述我觉得重要的观念。尽管有些内容作者用了很大的篇幅，但我有些看不懂，不想在上面多消耗脑细胞，而是想到了`前置引用`的事情，准备继续读下去。\n",
    "\n",
    "这本书确实弥补了很多我缺失的编程知识，现在感受到学无止境。从七月份开始的第一本编程书《自学是门手艺》，然后是《Python沉思录》，接着是当前这本《Python编程最佳实践》，让我感到兴奋。现在是学习的环节，趁着公司任务的轻松期学习知识，等任务发布时再去实战练习这些技巧。还是李笑来说的那句话，有些事情，你不知道就注意不到，注意不到就学不会。我现在大脑里也填补了很多新的编程知识，工作态度也更加认真，做人做事也会变得更加谦虚。\n",
    "\n",
    "这是读的第一遍，我不想在上面浪费太多时间，所以没有照抄上面的代码例子，而是多去思考作者讲了些什么，以及我能用在什么地方。先快速阅读一遍，在大脑里建立一个地图，然后在不断填补细节。有时我觉得自己写的东西乱七八糟，没有经过字斟句酌，但如果我开始思考写法，就会阻隔大脑的思绪，不能将头脑里的东西全部掏出来。好文章都是改出来的，想要改首先要有内容才行，所以第一步是积累素材，然后是优化写法，等我写着写着，第一版的内容也能讲的清楚些。"
   ]
  }
 ],
 "metadata": {
  "kernelspec": {
   "display_name": "Python 3",
   "language": "python",
   "name": "python3"
  },
  "language_info": {
   "codemirror_mode": {
    "name": "ipython",
    "version": 3
   },
   "file_extension": ".py",
   "mimetype": "text/x-python",
   "name": "python",
   "nbconvert_exporter": "python",
   "pygments_lexer": "ipython3",
   "version": "3.9.6"
  }
 },
 "nbformat": 4,
 "nbformat_minor": 2
}
