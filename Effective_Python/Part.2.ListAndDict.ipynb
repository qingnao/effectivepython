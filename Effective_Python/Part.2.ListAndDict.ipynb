{
 "cells": [
  {
   "cell_type": "markdown",
   "metadata": {},
   "source": [
    "# 第二章 列表与字典"
   ]
  },
  {
   "cell_type": "markdown",
   "metadata": {},
   "source": [
    "李笑来从《自学是门手艺》那本书里推荐了很多Python必读书籍，他已经做过一轮筛选，最简单的就是从他推荐的书里开始学起。结果也确实如此，读了那些书真的技术上填补了很多空缺。他推荐了很多本书，而我尽量从我能找得到的中文版本开始学起，并且找到示例代码开始边学边总结。\n",
    "\n",
    "他说，千万别觉得多，只要真的全面掌握，后面再学别的，速度上都会因此快出很多很多......\n",
    "\n",
    "他说的是真的，我在学第三本书是，看到一些熟悉的概念都会更容易接受，并且这就像是一次复习，复习我所学过的概念。并且看看不同的作者是怎么对这些知识进行总结讲解的，也能练习我的复述能力、自学能力。"
   ]
  },
  {
   "cell_type": "markdown",
   "metadata": {},
   "source": [
    "### 第11条 学会对序列做切片\n",
    "\n",
    "在原列表中，位于切片范围之前和之后的那些元素会予以保留，但是原列表长度可能会变化。因为如果切片选择五个元素，但赋值的元素只有三个，那未被填充的元素就消失了。如果切片选择了一个元素，但赋值元素有五个，那列表长度就会变长。而且这种方式还可以做到在指定位置插入一些元素，这本来就是list集合的能力。\n",
    "\n",
    "使用序列切片的列表不是原列表，而是创建了一个新的集合，也可以说是创建了副本。\n",
    "\n",
    "切片要尽量写得简单一点，如果从起始位置开始取，就省略起始下标0，如果选到序列末尾，就省略终止下表。   \n",
    "切片可以多取，不用担心数组下标越界异常，可以很轻易的表示，取前多少个或者后多少个，而不用担心切片里是否真的有这么多。  "
   ]
  },
  {
   "cell_type": "markdown",
   "metadata": {},
   "source": [
    "### 第12条 不要在切片里同时指定起止下标与步进\n",
    "\n",
    "在基本的切片写法外，还可以设置步进，比如每次切片里隔几个元素选一个值。  \n",
    "\n",
    "例如 x[::2] x[1::2] 这两个能去除在偶数位置的元素和奇数位置的元素。还可以指定负数做步进值，就是将字符串或列表反转嘛。\n",
    "\n",
    "同时指定切片的起止下标与步进值会让代码理解起来很困难。如果要指定步进值，就省略起止下标，并且尽量不要用负数。\n",
    "\n",
    "不要把起始位置、结束为止和步进值写进同一个切片操作里。如果必须要使用这些，就拆分成两次来使用，先进行切片，再隔位选取。"
   ]
  },
  {
   "cell_type": "markdown",
   "metadata": {},
   "source": [
    "### 第13条 通过带星号的unpacking操作来捕获多个元素，不要用切片"
   ]
  },
  {
   "cell_type": "code",
   "execution_count": null,
   "metadata": {},
   "outputs": [],
   "source": [
    "car_ages = [0, 9, 4, 8, 7, 20, 19, 1, 6, 15]\n",
    "car_ages_descending = sorted(car_ages, reverse=True)\n",
    "\n",
    "oldest, second_oldest, *others = car_ages_descending\n",
    "print(oldest, second_oldest, others)\n",
    "\n",
    "# 这样可以取出任意一段元素。拿到第一个和最后一个元素，将剩余一段放到新的集合里。\n",
    "oldest, *others, youngest = car_ages_descending\n",
    "print(oldest, youngest, others)\n",
    "\n",
    "*others, second_youngest, youngest = car_ages_descending\n",
    "print(youngest, second_youngest, others)\n",
    "\n",
    "# 只不过这种写法至少要有一个普通变量作为接收器才行，只写带星号的表达式而没有普通变量就会报错。\n",
    "# 而且也不能写多个带星号的表达式。\n",
    "\n",
    "# 带星号的表达式一定会生成一份列表实例，如果在此之前已经将元素用完，就会生成一份空的列表。\n",
    "short_list = [1, 2]\n",
    "first, second, *other = short_list\n",
    "print(first, second, other)"
   ]
  },
  {
   "cell_type": "markdown",
   "metadata": {},
   "source": [
    "* 拆分数据结构并把其中的数据赋给变量时，可以用带星号的表达式，将结构中无法与普通变量相匹配的内容捕获到一份列表里。\n",
    "* 这种带星号的表达式可以出现在赋值符号左侧的任意位置，它总是会形成一份含有零个或多个值的列表。\n",
    "* 把列表拆分成多个互相不重叠的多个部分时，这种带星号的unpacking方式比较清晰，而通过下标与切片的方式则很容易出错。"
   ]
  },
  {
   "cell_type": "markdown",
   "metadata": {},
   "source": [
    "### 第15条 不要过分依赖给字典添加条目时所用的顺序\n",
    "\n",
    "在我看来，Python的字典和Java的HashMap是一样的，不会按照存放时间顺序排列。因为使用了哈希表算法实现的。\n",
    "\n",
    "从Python 3.6开始，字典会保留这些键值对在添加时所用的顺序。于是，在新版的Python里，总是能够按照当初创建字典时的顺序来遍历键值对。\n",
    "\n",
    "从Python 3.7版开始，我们就可以确信迭代标准的字典时所看到的顺序跟这些键值对插入字典时的顺序一致。但在Python中，我们很容易就定义跟标准字典很像但又不是dict的对象。这样的对象不能保证顺序与插入时一致。所以不要依赖插入时的顺序编写代码。"
   ]
  },
  {
   "cell_type": "markdown",
   "metadata": {},
   "source": [
    "2024年10月30日14:58 笔记\n",
    "\n",
    "这一章学的迷迷糊糊，甚至不知道从何开启。《Python沉思录》作为入门书籍写的很好，这一本则像是进阶的，而另一本《流畅的Python》则更难。很庆幸我是从《Python沉思录》开始的。接下来我会把这些书籍都研读下来，一本一本读过去，像闯关一样，我的大脑也会因此磨的很锋利。"
   ]
  }
 ],
 "metadata": {
  "kernelspec": {
   "display_name": "Python 3",
   "language": "python",
   "name": "python3"
  },
  "language_info": {
   "codemirror_mode": {
    "name": "ipython",
    "version": 3
   },
   "file_extension": ".py",
   "mimetype": "text/x-python",
   "name": "python",
   "nbconvert_exporter": "python",
   "pygments_lexer": "ipython3",
   "version": "3.9.6"
  }
 },
 "nbformat": 4,
 "nbformat_minor": 2
}
