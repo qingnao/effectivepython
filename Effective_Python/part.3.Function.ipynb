{
 "cells": [
  {
   "cell_type": "markdown",
   "metadata": {},
   "source": [
    "# 第三章 函数\n",
    "\n",
    "Python程序员首先应该考虑的代码整理工具就是函数（function）。与其他编程语言一样，python的函数也可以把大段程序分解为多个小块儿，并且用直观的名字表示每块儿代码的用途。这样可以让代码更好理解，也更容易复用与重构。\n",
    "\n",
    "Python函数提供了许多能够简化编程工作的特性，其中有些和其他编程语言类似，还有一些是Python独有的。这些特性能够更明确地体现出函数的目标。利用这些特性来消除干扰，并突出调用者的想法，可以使程序里面不再出现那么多难以查找的bug。\n",
    "\n",
    "文涛：这段话写得太好，真是是不忍心增减一个字。之前我总想将代码拆解成简洁的形式，却拆的乱七八糟，现在终于有教学来告诉我该怎么做了。自己琢磨和网上学视频都没有直接到源头学习的好啊。找到第一手知识或者非常厉害的教授转述的书，学起来才能没有杂质，只学最有用的东西，然后自己练习。太好了。"
   ]
  },
  {
   "cell_type": "code",
   "execution_count": 2,
   "metadata": {},
   "outputs": [
    {
     "name": "stdout",
     "output_type": "stream",
     "text": [
      "Longest:108%\n",
      "shortest: 89%\n"
     ]
    }
   ],
   "source": [
    "def get_avg_ratio(numbers):\n",
    "    average = sum(numbers) / len(numbers)\n",
    "    scaled = [x / average for x in numbers]\n",
    "    scaled.sort(reverse=True)\n",
    "    return scaled\n",
    "\n",
    "lengths = [63, 73, 72, 60, 67, 66, 71, 61, 72, 70]\n",
    "longest, *other, shortest = get_avg_ratio(lengths)\n",
    "print(f'Longest:{longest:>4.0%}')\n",
    "print(f'shortest:{shortest:>4.0%}')\n"
   ]
  },
  {
   "cell_type": "markdown",
   "metadata": {},
   "source": [
    " ### 第19条 不要把函数返回的多个数值拆分到三个以上的变量中\n",
    "\n",
    " 本章我们学习函数，还有各个功能的拆分，就会有函数的返回值出现。Python支持多返回值，它们会是以元组的形式返回过来，但不要返回三个以上的变量，因为这样很容易搞混淆和出错，并且因为返回值太多，代码也会变得很长。可以使用带星号的变量里，取出普通变量，剩下的放一起，也可以定一个轻便的类，不返回那么多数据。"
   ]
  },
  {
   "cell_type": "markdown",
   "metadata": {},
   "source": [
    "### 第20条 遇到意外状况时应该抛出异常，不要返回None\n",
    "\n",
    "有时可以从标题里就能读出来要学的是什么，而文章就是针对标题的拓展和示例。这时候就不要愚蠢的复写文章的内容，而是将自己学习的心得记录下来，以及学到的内容能用在什么地方。\n",
    "\n",
    "用返回值None表示特殊情况是很容易出错的。因为None在表达式里是False，不容易和空值和0区分，都会被判定成False。比如：if not result: 本来None是特殊情况，但竟然被判断成了false，就像是失败等之类的。所以不要这样做，直接抛出异常。\n",
    "\n",
    "用异常表示特殊的情况，而不是返回None。在函数的文档里标注清楚，这个函数做了什么，出现特殊情况会这么处理。让调用函数的程序根据文档里写的异常情况作出处理。\n",
    "\n",
    "通过类型注解可以明确禁止函数返回None，即便在特殊情况下，也不能返回这个值。"
   ]
  },
  {
   "cell_type": "code",
   "execution_count": null,
   "metadata": {},
   "outputs": [],
   "source": [
    "# 下面我们给刚才那个函数添加类型注解，并为它编写docstring。\n",
    "def careful_divide(a: float, b: float) -> float:\n",
    "    \"\"\"Divides a by b\n",
    "    \n",
    "    Raises:\n",
    "        ValueError: When the inputs cannot be divided.\n",
    "    \"\"\"\n",
    "    try:\n",
    "        return a / b\n",
    "    except:\n",
    "        raise ValueError('Invalid inputs')\n",
    "# 这样写，输入、输入与异常都显得很清晰，所以调用方出错的概率就变得很小了。"
   ]
  },
  {
   "cell_type": "markdown",
   "metadata": {},
   "source": [
    "### 第21条 了解如何在闭包里面使用外围作用域中的变量\n",
    "\n",
    "这一条讲了函数里作用域的问题，函数内部使用的变量很可能跟外部不一样。如果想要使用，可以用nonlocal语句说明，然后赋值。它的作用域是模块级别的，与之对应的是globl，这是全局变量 。除非是特别简单的函数，否则尽量少用nonlocal语句，很容易出错。"
   ]
  },
  {
   "cell_type": "markdown",
   "metadata": {},
   "source": [
    "### 第22条 用数量可变的位置参数为函数设计清晰的参数列表\n",
    "\n",
    "这一章讲的是让函数的参数变成可变参数，放在最后一个参数里，前面加星号。这样可变位置参数就可以不传，也可以传多个，程序会将它转成元组。这一段我在《Python沉思录》里学过，当时迷迷糊糊，只知道有这个事，今天在这里再学一遍，算不算是一种复习和查漏补缺呢？同样的知识，看两个大佬分别作出解释和教授。\n",
    "\n",
    "在调用函数是也可以使用星号，将一个列表转成元组参数传递进去。因为程序需要先将带*操作符的生成器全部迭代以形成元组，才会进行传递，所以可能会耗费大量内存，有内存崩溃的风险。一般只有参数可预估的时候才这样用。\n",
    "\n",
    "因为我这是第一遍学习，所以就是囫囵吞枣的学下去，有些读不懂的也没有关系，继续往下学。因为前置引用的缘故，我可能会遇到在后面才会讲解的知识点，所以等学到那一步的时候就会有恍然大悟的感觉。此时，要保持学习的流畅感。针对不同的Python必读书籍来说，也有一些知识重合的地方，也算是一种复习，而等我学完这些书籍后还有复习的工作。到那时就是逐字逐句的阅读教材和自查，纠正错误的观念，补充缺失和没掌握牢固的知识点。"
   ]
  },
  {
   "cell_type": "markdown",
   "metadata": {},
   "source": [
    "### 第23条 用关键字参数来表示可选的行为\n",
    "\n",
    "调用函数时传递的参数可以按照位置参数来传参，也可以按照关键字传参，也可以位置参数和关键词参数混用。如果混用，位置参数必须在关键字参数之前，否则就会报错。每个参数只能指定一次，不能既通过位置形式指定，又通过关键字形式指定。\n",
    "\n",
    "如果有一份字典，而且字典里面的内容能够用来调用remainder这样的函数，那么可以把**运算符加在字典前面，这会让Python把字典里面的键值以关键字参数的形式传给函数。"
   ]
  },
  {
   "cell_type": "code",
   "execution_count": null,
   "metadata": {},
   "outputs": [],
   "source": [
    "# 使用了**运算符，就会把字典里面的键值对转成关键字参数的形式。例如：\n",
    "my_kwargs = {\n",
    "    'number': 20,\n",
    "    'divisor': 7,\n",
    "}\n",
    "\n",
    "def remainder(number, divisor):\n",
    "    return number % divisor\n",
    "\n",
    "assert remainder(**my_kwargs) == 6\n",
    "\n",
    "# 这里调用后就变成了 \n",
    "assert remainder(number=20, divisor=7) == 6\n",
    "# 这一章的教学刚好填补了《自学是门手艺》里关于数量可变的位置参数以及关键字参数的内容。"
   ]
  },
  {
   "cell_type": "code",
   "execution_count": 3,
   "metadata": {},
   "outputs": [
    {
     "name": "stdout",
     "output_type": "stream",
     "text": [
      "alpha = 1.5\n",
      "beta = 9\n",
      "gamma = 4\n"
     ]
    }
   ],
   "source": [
    "# 定义函数时，如果想让这个函数接受任意数量的关键字参数，那么可以在参数列表里写上万能形参**kwargs，\n",
    "# 它会把调用者传来的参数收集和到一个字典里面稍后处理\n",
    "\n",
    "def print_parameters(**kwargs):\n",
    "    for key, value in kwargs.items():\n",
    "        print(f'{key} = {value}')\n",
    "\n",
    "print_parameters(alpha=1.5, beta=9, gamma=4)"
   ]
  },
  {
   "cell_type": "markdown",
   "metadata": {},
   "source": []
  }
 ],
 "metadata": {
  "kernelspec": {
   "display_name": "Python 3",
   "language": "python",
   "name": "python3"
  },
  "language_info": {
   "codemirror_mode": {
    "name": "ipython",
    "version": 3
   },
   "file_extension": ".py",
   "mimetype": "text/x-python",
   "name": "python",
   "nbconvert_exporter": "python",
   "pygments_lexer": "ipython3",
   "version": "3.9.6"
  }
 },
 "nbformat": 4,
 "nbformat_minor": 2
}
