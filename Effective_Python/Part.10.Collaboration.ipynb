{
 "cells": [
  {
   "cell_type": "markdown",
   "metadata": {},
   "source": [
    "# 第10章 协作开发\n",
    "\n",
    "整个Python开发界都在随时总结经验，使代码变得更容易维护。而我们也需要明白，怎么写程序才能与其他Python开发者更为顺利地合作。"
   ]
  },
  {
   "cell_type": "markdown",
   "metadata": {},
   "source": [
    "### 第83条 用虚拟环境隔离项目，并重建依赖关系\n",
    "\n",
    "我当前的环境受到PEP 668 的管理约束，不允许直接使用 pip 安装包。可以通过创建虚拟环境来隔离管理 Python 包，避免影响系统依赖。\n",
    "\n",
    "用venv新建名为myproject的虚拟环境。每个虚拟环境都有自己独立的目录结构。执行完下面这条命令后，就得到了myproject目录。    \n",
    "\n",
    "python3 -m venv myproject   \n",
    "\n",
    "目录里还有一些子目录和文件，进入到里面 cd myproject     \n",
    "\n",
    "要想使用这套虚拟环境，首先通过source命令执行bin/activate脚本。这个脚本会修改各种环境变量，以匹配虚拟环境。\n",
    "\n",
    "这样做，可以确保外部系统所发生的变化不会影响这虚拟环境。即便外部系统升级了，这套虚拟环境还是原来的版本。只是虚拟环境只是最基础的模块，直接使用外部系统的模块会报错，所以需要重新安装。所以有requeird.txt文件，用来批量安装模块。\n",
    "\n",
    "用完虚拟环境后，可以通过`deactivate`操作回到默认环境。这个命令能把相关环境变量复原成系统默认的值，也包括python3命令所指向的位置。"
   ]
  },
  {
   "cell_type": "markdown",
   "metadata": {},
   "source": [
    "进入到虚拟环境后，可以在这个环境里面用pip安装需要的软件包。最终可能要把这套环境复制到别的地方。利用venv工具可以很容易就做到复制这样的环境，用 `python3 -m pip freeze` 命令就可以把当前环境所依赖的包保存到一份文件之中。\n",
    "\n",
    "如果我们在一个新的环境里，就可以执行install命令，将刚才用命令保存的requirements.txt文件通过-r传递给它，这样就能将那份文件所记录的软件包重新安装到这个环境里了。\n",
    "\n",
    "python3 -m pip install -r /tmp/myproject/requirements.txt"
   ]
  },
  {
   "cell_type": "markdown",
   "metadata": {
    "vscode": {
     "languageId": "latex"
    }
   },
   "source": [
    "### 第84条 每一个函数、类与模块都要写docString"
   ]
  },
  {
   "cell_type": "markdown",
   "metadata": {},
   "source": [
    "### 第85条 用包来安排模块，以提供稳固的API\n",
    "\n",
    "现在可以尝试将看到的内容用笔记记录下来，但不是照抄句子。写下自己觉得有用、有感触的内容，用心想一想这个过程，就强化了记忆。如果觉得自己有遗漏，那再回过头来检查填充，而不是直接越过这一步去抄原句。因为重要的不是我能看到多少，而是我能看懂多少，理解多少，能运用多少。第一次学习就先拿到自己能掌握的，建立一个大致的结构，等第二遍再读时查漏补缺。\n",
    "\n",
    "为什么要分包，就是为了层级能更明显，一个是util，一个是common或者是别的，但直接用包的话不能导入成功，要用一个__init__.py的文件才能证明这是一个包。也就轻松实现了Java里的结构，而不是像我们程序代码里那样是个很小的项目。"
   ]
  },
  {
   "cell_type": "markdown",
   "metadata": {},
   "source": [
    "### 第86条 考虑用模块级别的代码配置不同的部署环境\n",
    "\n",
    "这一条是说我们可以针对开发环境和生产环境做一些配置，比如根据输入的参数调用不同的函数。如果是生产环境调用这份文件，开发使用dev文件。这和Java的SpringBoot开发一样，根据配置文件来部署环境，而不是总是单独修改代码文件。只是我现在的公司不区分开发或生产，直接就是用真实环境来操作的，好在做的都是些数据收集的事情，而不用写假数据。"
   ]
  }
 ],
 "metadata": {
  "kernelspec": {
   "display_name": "Python 3",
   "language": "python",
   "name": "python3"
  },
  "language_info": {
   "name": "python",
   "version": "3.9.6"
  }
 },
 "nbformat": 4,
 "nbformat_minor": 2
}
